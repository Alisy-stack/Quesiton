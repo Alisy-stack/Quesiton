{
 "cells": [
  {
   "cell_type": "code",
   "execution_count": 1,
   "metadata": {
    "scrolled": true
   },
   "outputs": [
    {
     "name": "stderr",
     "output_type": "stream",
     "text": [
      "Using TensorFlow backend.\n"
     ]
    }
   ],
   "source": [
    "from keras.models import Sequential\n",
    "from keras.layers import Dense\n",
    "from keras.optimizers import SGD\n",
    "import numpy as np\n",
    "import statsmodels.api as sm\n",
    "from sklearn.metrics import mean_squared_error\n",
    "import matplotlib.pyplot as plt\n",
    "from tqdm import tqdm\n",
    "import tensorflow as tf"
   ]
  },
  {
   "cell_type": "code",
   "execution_count": 2,
   "metadata": {},
   "outputs": [],
   "source": [
    "# Simulation of some data\n",
    "np.random.seed (245)\n",
    "nobs =10000\n",
    "\n",
    "# Definition normalverteilte Features\n",
    "x1= np.random.normal(size=nobs ,scale=1) # ich definiere normal verteilte x1 \n",
    "x2= np.random.normal(size=nobs ,scale=1) # auch x2 ist normalverteilt\n",
    "x3= np.random.normal(size=nobs ,scale=1) # auch x3 ist normalverteilt\n",
    "x4= np.random.normal(size=nobs ,scale=1) # auch x4 ist normalverteilt\n",
    "x5= np.random.normal(size=nobs ,scale=1) # auch x5 ist normalverteilt\n",
    "\n",
    "# Dann werden Features in einer Matrix überführt \n",
    "X= np.c_[np.ones((nobs ,1)),x1,x2,x3,x4,x5] \n",
    "\n",
    "\n",
    "y= np.cos(x1) + np.sin(x2) + 2*x3 + x4 + 0.01*x5 + np.random.normal(size=nobs , scale=0.01) # fehler ist normalverteilt-> y auch ist normalverteilt\n",
    "                                                                                            #  width irreducable error ist 0.01\n",
    "    "
   ]
  },
  {
   "cell_type": "markdown",
   "metadata": {},
   "source": [
    "# The Neural Network\n",
    "### Hyper parameters\n",
    "#### ich habe nicht gleiche Aktivierungsfunktion für alle meiner Neuronen"
   ]
  },
  {
   "cell_type": "code",
   "execution_count": 7,
   "metadata": {},
   "outputs": [],
   "source": [
    "#Learningrate\n",
    "LR=0.05\n",
    "\n",
    "\n",
    "# Number of Neurons\n",
    "Neuron_Out=1\n",
    "Neuron_Hidden1=64\n",
    "Neuron_Hidden2=32\n",
    "\n",
    "#The Activation function\n",
    "Activate_output='linear' # für letzte Schicht verwende ich linear\n",
    "Activate_hidden='relu' # unterschied ist Hidden-Layer-Neuronen werden nicht linear transformiert\n",
    "\n",
    "\n",
    "#The Optimizer\n",
    "Optimizer= SGD(lr=LR)\n",
    "\n",
    "\n",
    "# The loss function\n",
    "loss='mean_squared_error'\n",
    "\n",
    "# Splitting Data\n",
    "from sklearn.model_selection import train_test_split\n",
    "x_train , x_test , y_train , y_test = train_test_split(X, y, test_size =0.15, random_state =77)\n"
   ]
  },
  {
   "cell_type": "markdown",
   "metadata": {},
   "source": [
    "### Construct the Neural Network"
   ]
  },
  {
   "cell_type": "code",
   "execution_count": 8,
   "metadata": {},
   "outputs": [
    {
     "name": "stderr",
     "output_type": "stream",
     "text": [
      "/Applications/Anaconda/anaconda3/lib/python3.7/site-packages/tensorflow/python/client/session.py:1735: UserWarning: An interactive session is already active. This can cause out-of-memory errors in some cases. You must explicitly call `InteractiveSession.close()` to release resources held by the other session(s).\n",
      "  warnings.warn('An interactive session is already active. This can '\n"
     ]
    },
    {
     "name": "stdout",
     "output_type": "stream",
     "text": [
      "_________________________________________________________________\n",
      "Layer (type)                 Output Shape              Param #   \n",
      "=================================================================\n",
      "dense_4 (Dense)              (None, 64)                448       \n",
      "_________________________________________________________________\n",
      "dense_5 (Dense)              (None, 32)                2080      \n",
      "_________________________________________________________________\n",
      "dense_6 (Dense)              (None, 1)                 33        \n",
      "=================================================================\n",
      "Total params: 2,561\n",
      "Trainable params: 2,561\n",
      "Non-trainable params: 0\n",
      "_________________________________________________________________\n"
     ]
    }
   ],
   "source": [
    "## Neural Network\n",
    "from tensorflow import set_random_seed\n",
    "set_random_seed (245)\n",
    "# As in Medium Essa\n",
    "sess = tf.InteractiveSession()\n",
    "sess.run(tf.initialize_all_variables())\n",
    "\n",
    "#Initialize the ANN\n",
    "model_ANN= Sequential()\n",
    "\n",
    "# Hidden Layer-> hier wird Hidden Layer definiert-> Anzahl der Neuronen hier sind 64, 32\n",
    "# input ist 6 (also 1,x1,x2,x3,x4,x5)-> one is the first column in X Matrix\n",
    "model_ANN.add(Dense(Neuron_Hidden1, activation=Activate_hidden, input_shape=(6,), use_bias=True))\n",
    "model_ANN.add(Dense(Neuron_Hidden2, activation=Activate_hidden, use_bias=True))\n",
    "\n",
    "#Output Layer-> hier wird Output-Layer defniniert\n",
    "model_ANN.add(Dense(Neuron_Out, activation=Activate_output,use_bias=True))\n",
    "model_ANN.summary()"
   ]
  },
  {
   "cell_type": "markdown",
   "metadata": {},
   "source": [
    "### Compile the Neural Network"
   ]
  },
  {
   "cell_type": "code",
   "execution_count": 9,
   "metadata": {},
   "outputs": [],
   "source": [
    "model_ANN.compile(optimizer=Optimizer , loss=loss)"
   ]
  },
  {
   "cell_type": "markdown",
   "metadata": {},
   "source": [
    "### Fit the Neural Network"
   ]
  },
  {
   "cell_type": "code",
   "execution_count": 10,
   "metadata": {
    "scrolled": false
   },
   "outputs": [
    {
     "name": "stdout",
     "output_type": "stream",
     "text": [
      "WARNING:tensorflow:From /Applications/Anaconda/anaconda3/lib/python3.7/site-packages/keras/backend/tensorflow_backend.py:986: The name tf.assign_add is deprecated. Please use tf.compat.v1.assign_add instead.\n",
      "\n",
      "WARNING:tensorflow:From /Applications/Anaconda/anaconda3/lib/python3.7/site-packages/keras/backend/tensorflow_backend.py:973: The name tf.assign is deprecated. Please use tf.compat.v1.assign instead.\n",
      "\n",
      "Epoch 1/125\n",
      "8500/8500 [==============================] - 2s 208us/step - loss: 0.2328\n",
      "Epoch 2/125\n",
      "8500/8500 [==============================] - 1s 80us/step - loss: 0.0477\n",
      "Epoch 3/125\n",
      "8500/8500 [==============================] - 1s 78us/step - loss: 0.0372\n",
      "Epoch 4/125\n",
      "8500/8500 [==============================] - 1s 90us/step - loss: 0.0216\n",
      "Epoch 5/125\n",
      "8500/8500 [==============================] - 1s 75us/step - loss: 0.0171\n",
      "Epoch 6/125\n",
      "8500/8500 [==============================] - 1s 71us/step - loss: 0.0186\n",
      "Epoch 7/125\n",
      "8500/8500 [==============================] - 1s 98us/step - loss: 0.0149\n",
      "Epoch 8/125\n",
      "8500/8500 [==============================] - 1s 78us/step - loss: 0.0118\n",
      "Epoch 9/125\n",
      "8500/8500 [==============================] - 1s 76us/step - loss: 0.0104\n",
      "Epoch 10/125\n",
      "8500/8500 [==============================] - 1s 88us/step - loss: 0.0108\n",
      "Epoch 11/125\n",
      "8500/8500 [==============================] - 1s 77us/step - loss: 0.0087\n",
      "Epoch 12/125\n",
      "8500/8500 [==============================] - 1s 75us/step - loss: 0.0086\n",
      "Epoch 13/125\n",
      "8500/8500 [==============================] - 1s 67us/step - loss: 0.0072\n",
      "Epoch 14/125\n",
      "8500/8500 [==============================] - 1s 66us/step - loss: 0.0085\n",
      "Epoch 15/125\n",
      "8500/8500 [==============================] - 1s 67us/step - loss: 0.0065\n",
      "Epoch 16/125\n",
      "8500/8500 [==============================] - 1s 68us/step - loss: 0.0063\n",
      "Epoch 17/125\n",
      "8500/8500 [==============================] - 1s 67us/step - loss: 0.0056\n",
      "Epoch 18/125\n",
      "8500/8500 [==============================] - 1s 67us/step - loss: 0.0056\n",
      "Epoch 19/125\n",
      "8500/8500 [==============================] - 1s 67us/step - loss: 0.0062\n",
      "Epoch 20/125\n",
      "8500/8500 [==============================] - 1s 67us/step - loss: 0.0060\n",
      "Epoch 21/125\n",
      "8500/8500 [==============================] - 1s 68us/step - loss: 0.0044\n",
      "Epoch 22/125\n",
      "8500/8500 [==============================] - 1s 67us/step - loss: 0.0049\n",
      "Epoch 23/125\n",
      "8500/8500 [==============================] - 1s 67us/step - loss: 0.0053\n",
      "Epoch 24/125\n",
      "8500/8500 [==============================] - 1s 67us/step - loss: 0.0041\n",
      "Epoch 25/125\n",
      "8500/8500 [==============================] - 1s 67us/step - loss: 0.0037\n",
      "Epoch 26/125\n",
      "8500/8500 [==============================] - 1s 68us/step - loss: 0.0043\n",
      "Epoch 27/125\n",
      "8500/8500 [==============================] - 1s 66us/step - loss: 0.0038\n",
      "Epoch 28/125\n",
      "8500/8500 [==============================] - 1s 67us/step - loss: 0.0046\n",
      "Epoch 29/125\n",
      "8500/8500 [==============================] - 1s 67us/step - loss: 0.0039\n",
      "Epoch 30/125\n",
      "8500/8500 [==============================] - 1s 68us/step - loss: 0.0038\n",
      "Epoch 31/125\n",
      "8500/8500 [==============================] - 1s 66us/step - loss: 0.0046\n",
      "Epoch 32/125\n",
      "8500/8500 [==============================] - 1s 67us/step - loss: 0.0033\n",
      "Epoch 33/125\n",
      "8500/8500 [==============================] - 1s 66us/step - loss: 0.0034\n",
      "Epoch 34/125\n",
      "8500/8500 [==============================] - 1s 67us/step - loss: 0.0038\n",
      "Epoch 35/125\n",
      "8500/8500 [==============================] - 1s 68us/step - loss: 0.0033\n",
      "Epoch 36/125\n",
      "8500/8500 [==============================] - 1s 67us/step - loss: 0.0033\n",
      "Epoch 37/125\n",
      "8500/8500 [==============================] - 1s 68us/step - loss: 0.0035\n",
      "Epoch 38/125\n",
      "8500/8500 [==============================] - 1s 66us/step - loss: 0.0038\n",
      "Epoch 39/125\n",
      "8500/8500 [==============================] - 1s 68us/step - loss: 0.0033\n",
      "Epoch 40/125\n",
      "8500/8500 [==============================] - 1s 67us/step - loss: 0.0030\n",
      "Epoch 41/125\n",
      "8500/8500 [==============================] - 1s 67us/step - loss: 0.0031\n",
      "Epoch 42/125\n",
      "8500/8500 [==============================] - 1s 67us/step - loss: 0.0034\n",
      "Epoch 43/125\n",
      "8500/8500 [==============================] - 1s 67us/step - loss: 0.0027\n",
      "Epoch 44/125\n",
      "8500/8500 [==============================] - 1s 67us/step - loss: 0.0030\n",
      "Epoch 45/125\n",
      "8500/8500 [==============================] - 1s 66us/step - loss: 0.0030\n",
      "Epoch 46/125\n",
      "8500/8500 [==============================] - 1s 67us/step - loss: 0.0024\n",
      "Epoch 47/125\n",
      "8500/8500 [==============================] - 1s 67us/step - loss: 0.0026\n",
      "Epoch 48/125\n",
      "8500/8500 [==============================] - 1s 67us/step - loss: 0.0026\n",
      "Epoch 49/125\n",
      "8500/8500 [==============================] - 1s 66us/step - loss: 0.0025\n",
      "Epoch 50/125\n",
      "8500/8500 [==============================] - 1s 67us/step - loss: 0.0029\n",
      "Epoch 51/125\n",
      "8500/8500 [==============================] - 1s 67us/step - loss: 0.0025\n",
      "Epoch 52/125\n",
      "8500/8500 [==============================] - 1s 67us/step - loss: 0.0023\n",
      "Epoch 53/125\n",
      "8500/8500 [==============================] - 1s 68us/step - loss: 0.0025\n",
      "Epoch 54/125\n",
      "8500/8500 [==============================] - 1s 68us/step - loss: 0.0027\n",
      "Epoch 55/125\n",
      "8500/8500 [==============================] - 1s 67us/step - loss: 0.0023\n",
      "Epoch 56/125\n",
      "8500/8500 [==============================] - 1s 67us/step - loss: 0.0023\n",
      "Epoch 57/125\n",
      "8500/8500 [==============================] - 1s 67us/step - loss: 0.0023\n",
      "Epoch 58/125\n",
      "8500/8500 [==============================] - 1s 68us/step - loss: 0.0022\n",
      "Epoch 59/125\n",
      "8500/8500 [==============================] - 1s 67us/step - loss: 0.0022\n",
      "Epoch 60/125\n",
      "8500/8500 [==============================] - 1s 69us/step - loss: 0.0024\n",
      "Epoch 61/125\n",
      "8500/8500 [==============================] - 1s 67us/step - loss: 0.0023\n",
      "Epoch 62/125\n",
      "8500/8500 [==============================] - 1s 66us/step - loss: 0.0023\n",
      "Epoch 63/125\n",
      "8500/8500 [==============================] - 1s 68us/step - loss: 0.0022\n",
      "Epoch 64/125\n",
      "8500/8500 [==============================] - 1s 67us/step - loss: 0.0020\n",
      "Epoch 65/125\n",
      "8500/8500 [==============================] - 1s 68us/step - loss: 0.0022\n",
      "Epoch 66/125\n",
      "8500/8500 [==============================] - 1s 67us/step - loss: 0.0020\n",
      "Epoch 67/125\n",
      "8500/8500 [==============================] - 1s 68us/step - loss: 0.0020\n",
      "Epoch 68/125\n",
      "8500/8500 [==============================] - 1s 68us/step - loss: 0.0021\n",
      "Epoch 69/125\n",
      "8500/8500 [==============================] - 1s 67us/step - loss: 0.0019\n",
      "Epoch 70/125\n",
      "8500/8500 [==============================] - 1s 67us/step - loss: 0.0023\n",
      "Epoch 71/125\n",
      "8500/8500 [==============================] - 1s 67us/step - loss: 0.0021\n",
      "Epoch 72/125\n",
      "8500/8500 [==============================] - 1s 68us/step - loss: 0.0020\n",
      "Epoch 73/125\n",
      "8500/8500 [==============================] - 1s 67us/step - loss: 0.0023\n",
      "Epoch 74/125\n",
      "8500/8500 [==============================] - 1s 68us/step - loss: 0.0021\n",
      "Epoch 75/125\n",
      "8500/8500 [==============================] - 1s 69us/step - loss: 0.0024\n",
      "Epoch 76/125\n",
      "8500/8500 [==============================] - 1s 69us/step - loss: 0.0018\n",
      "Epoch 77/125\n",
      "8500/8500 [==============================] - 1s 68us/step - loss: 0.0018\n",
      "Epoch 78/125\n",
      "8500/8500 [==============================] - 1s 67us/step - loss: 0.0021\n",
      "Epoch 79/125\n",
      "8500/8500 [==============================] - 1s 68us/step - loss: 0.0019\n",
      "Epoch 80/125\n",
      "8500/8500 [==============================] - 1s 67us/step - loss: 0.0017\n",
      "Epoch 81/125\n",
      "8500/8500 [==============================] - 1s 68us/step - loss: 0.0018\n",
      "Epoch 82/125\n",
      "8500/8500 [==============================] - 1s 68us/step - loss: 0.0019\n",
      "Epoch 83/125\n",
      "8500/8500 [==============================] - 1s 68us/step - loss: 0.0018\n",
      "Epoch 84/125\n",
      "8500/8500 [==============================] - 1s 68us/step - loss: 0.0018\n",
      "Epoch 85/125\n",
      "8500/8500 [==============================] - 1s 68us/step - loss: 0.0016\n",
      "Epoch 86/125\n",
      "8500/8500 [==============================] - 1s 68us/step - loss: 0.0018\n",
      "Epoch 87/125\n",
      "8500/8500 [==============================] - 1s 68us/step - loss: 0.0017\n",
      "Epoch 88/125\n",
      "8500/8500 [==============================] - 1s 68us/step - loss: 0.0021\n",
      "Epoch 89/125\n",
      "8500/8500 [==============================] - 1s 68us/step - loss: 0.0014\n",
      "Epoch 90/125\n",
      "8500/8500 [==============================] - 1s 68us/step - loss: 0.0017\n",
      "Epoch 91/125\n"
     ]
    },
    {
     "name": "stdout",
     "output_type": "stream",
     "text": [
      "8500/8500 [==============================] - 1s 66us/step - loss: 0.0019\n",
      "Epoch 92/125\n",
      "8500/8500 [==============================] - 1s 66us/step - loss: 0.0017\n",
      "Epoch 93/125\n",
      "8500/8500 [==============================] - 1s 67us/step - loss: 0.0015\n",
      "Epoch 94/125\n",
      "8500/8500 [==============================] - 1s 67us/step - loss: 0.0014\n",
      "Epoch 95/125\n",
      "8500/8500 [==============================] - 1s 67us/step - loss: 0.0016\n",
      "Epoch 96/125\n",
      "8500/8500 [==============================] - 1s 67us/step - loss: 0.0020\n",
      "Epoch 97/125\n",
      "8500/8500 [==============================] - 1s 66us/step - loss: 0.0016\n",
      "Epoch 98/125\n",
      "8500/8500 [==============================] - 1s 66us/step - loss: 0.0015\n",
      "Epoch 99/125\n",
      "8500/8500 [==============================] - 1s 66us/step - loss: 0.0015\n",
      "Epoch 100/125\n",
      "8500/8500 [==============================] - 1s 67us/step - loss: 0.0017\n",
      "Epoch 101/125\n",
      "8500/8500 [==============================] - 1s 66us/step - loss: 0.0015\n",
      "Epoch 102/125\n",
      "8500/8500 [==============================] - 1s 67us/step - loss: 0.0016\n",
      "Epoch 103/125\n",
      "8500/8500 [==============================] - 1s 67us/step - loss: 0.0016\n",
      "Epoch 104/125\n",
      "8500/8500 [==============================] - 1s 66us/step - loss: 0.0014\n",
      "Epoch 105/125\n",
      "8500/8500 [==============================] - 1s 67us/step - loss: 0.0015\n",
      "Epoch 106/125\n",
      "8500/8500 [==============================] - 1s 68us/step - loss: 0.0014\n",
      "Epoch 107/125\n",
      "8500/8500 [==============================] - 1s 68us/step - loss: 0.0015\n",
      "Epoch 108/125\n",
      "8500/8500 [==============================] - 1s 84us/step - loss: 0.0016\n",
      "Epoch 109/125\n",
      "8500/8500 [==============================] - 1s 67us/step - loss: 0.0015\n",
      "Epoch 110/125\n",
      "8500/8500 [==============================] - 1s 72us/step - loss: 0.0018\n",
      "Epoch 111/125\n",
      "8500/8500 [==============================] - 1s 83us/step - loss: 0.0015\n",
      "Epoch 112/125\n",
      "8500/8500 [==============================] - 1s 90us/step - loss: 0.0015\n",
      "Epoch 113/125\n",
      "8500/8500 [==============================] - 1s 86us/step - loss: 0.0013\n",
      "Epoch 114/125\n",
      "8500/8500 [==============================] - 1s 87us/step - loss: 0.0015\n",
      "Epoch 115/125\n",
      "8500/8500 [==============================] - 1s 106us/step - loss: 0.0014 0s - loss: 0.001\n",
      "Epoch 116/125\n",
      "8500/8500 [==============================] - 1s 93us/step - loss: 0.0015\n",
      "Epoch 117/125\n",
      "8500/8500 [==============================] - 1s 86us/step - loss: 0.0014\n",
      "Epoch 118/125\n",
      "8500/8500 [==============================] - 1s 86us/step - loss: 0.0013\n",
      "Epoch 119/125\n",
      "8500/8500 [==============================] - 1s 83us/step - loss: 0.0015\n",
      "Epoch 120/125\n",
      "8500/8500 [==============================] - 1s 95us/step - loss: 0.0014\n",
      "Epoch 121/125\n",
      "8500/8500 [==============================] - 1s 81us/step - loss: 0.0016: 0s - los\n",
      "Epoch 122/125\n",
      "8500/8500 [==============================] - 1s 74us/step - loss: 0.0017\n",
      "Epoch 123/125\n",
      "8500/8500 [==============================] - 1s 74us/step - loss: 0.0013\n",
      "Epoch 124/125\n",
      "8500/8500 [==============================] - 1s 77us/step - loss: 0.0014\n",
      "Epoch 125/125\n",
      "8500/8500 [==============================] - 1s 80us/step - loss: 0.0013\n"
     ]
    }
   ],
   "source": [
    "#Fit the model\n",
    "history_ANN=model_ANN.fit(\n",
    "x_train, # training data\n",
    "y_train, # training targets\n",
    "epochs=125)"
   ]
  },
  {
   "cell_type": "code",
   "execution_count": 11,
   "metadata": {
    "scrolled": true
   },
   "outputs": [
    {
     "data": {
      "image/png": "[encoded data removed]",
      "text/plain": [
       "<Figure size 432x288 with 1 Axes>"
      ]
     },
     "metadata": {
      "needs_background": "light"
     },
     "output_type": "display_data"
    }
   ],
   "source": [
    "plt.plot(history_ANN.history['loss'])\n",
    "plt.title('Model loss')\n",
    "plt.ylabel('Loss')\n",
    "plt.xlabel('Epoch')\n",
    "plt.show()"
   ]
  },
  {
   "cell_type": "markdown",
   "metadata": {},
   "source": [
    "### Evaluation"
   ]
  },
  {
   "cell_type": "code",
   "execution_count": 12,
   "metadata": {},
   "outputs": [
    {
     "name": "stdout",
     "output_type": "stream",
     "text": [
      "MSE ANN: 0.0008449917503000481\n"
     ]
    }
   ],
   "source": [
    "y_pred_ANN=model_ANN.predict(x_test) \n",
    "print(\"MSE ANN:\", mean_squared_error(y_test, y_pred_ANN))"
   ]
  },
  {
   "cell_type": "code",
   "execution_count": 13,
   "metadata": {},
   "outputs": [
    {
     "name": "stdout",
     "output_type": "stream",
     "text": [
      "0.0008747289417145881\n",
      "0.0008449917503000481\n"
     ]
    }
   ],
   "source": [
    "# to better understand\n",
    "ANN_pred_IS=model_ANN.predict(x_train)\n",
    "ANN_pred_OOS=model_ANN.predict(x_test)\n",
    "\n",
    "print(mean_squared_error(y_train, ANN_pred_IS))\n",
    "print(mean_squared_error(y_test, ANN_pred_OOS))"
   ]
  },
  {
   "cell_type": "markdown",
   "metadata": {},
   "source": [
    "# Find the Jacobian Matrix"
   ]
  },
  {
   "cell_type": "code",
   "execution_count": 32,
   "metadata": {},
   "outputs": [],
   "source": [
    "def jacobian_tensorflow(x):    \n",
    "    jacobian_matrix = []\n",
    "    for m in range(Neuron_Out):\n",
    "        # We iterate over the M elements of the output vector\n",
    "        grad_func = tf.gradients(model_ANN.output[:, m], model_ANN.input)\n",
    "        gradients = sess.run(grad_func, feed_dict={model_ANN.input: x.reshape((1, x.size))})\n",
    "        jacobian_matrix.append(gradients[0][0,:])\n",
    "        \n",
    "    return np.array(jacobian_matrix)"
   ]
  },
  {
   "cell_type": "code",
   "execution_count": 33,
   "metadata": {},
   "outputs": [
    {
     "ename": "ValueError",
     "evalue": "Cannot feed value of shape (1, 9000) for Tensor 'dense_4_input:0', which has shape '(?, 6)'",
     "output_type": "error",
     "traceback": [
      "\u001b[0;31m---------------------------------------------------------------------------\u001b[0m",
      "\u001b[0;31mValueError\u001b[0m                                Traceback (most recent call last)",
      "\u001b[0;32m<ipython-input-33-724878a2cffb>\u001b[0m in \u001b[0;36m<module>\u001b[0;34m\u001b[0m\n\u001b[0;32m----> 1\u001b[0;31m \u001b[0mjacobian_tensorflow\u001b[0m\u001b[0;34m(\u001b[0m\u001b[0mx_test\u001b[0m\u001b[0;34m)\u001b[0m\u001b[0;34m\u001b[0m\u001b[0;34m\u001b[0m\u001b[0m\n\u001b[0m",
      "\u001b[0;32m<ipython-input-32-e2447eb9114e>\u001b[0m in \u001b[0;36mjacobian_tensorflow\u001b[0;34m(x)\u001b[0m\n\u001b[1;32m      4\u001b[0m         \u001b[0;31m# We iterate over the M elements of the output vector\u001b[0m\u001b[0;34m\u001b[0m\u001b[0;34m\u001b[0m\u001b[0;34m\u001b[0m\u001b[0m\n\u001b[1;32m      5\u001b[0m         \u001b[0mgrad_func\u001b[0m \u001b[0;34m=\u001b[0m \u001b[0mtf\u001b[0m\u001b[0;34m.\u001b[0m\u001b[0mgradients\u001b[0m\u001b[0;34m(\u001b[0m\u001b[0mmodel_ANN\u001b[0m\u001b[0;34m.\u001b[0m\u001b[0moutput\u001b[0m\u001b[0;34m[\u001b[0m\u001b[0;34m:\u001b[0m\u001b[0;34m,\u001b[0m \u001b[0mm\u001b[0m\u001b[0;34m]\u001b[0m\u001b[0;34m,\u001b[0m \u001b[0mmodel_ANN\u001b[0m\u001b[0;34m.\u001b[0m\u001b[0minput\u001b[0m\u001b[0;34m)\u001b[0m\u001b[0;34m\u001b[0m\u001b[0;34m\u001b[0m\u001b[0m\n\u001b[0;32m----> 6\u001b[0;31m         \u001b[0mgradients\u001b[0m \u001b[0;34m=\u001b[0m \u001b[0msess\u001b[0m\u001b[0;34m.\u001b[0m\u001b[0mrun\u001b[0m\u001b[0;34m(\u001b[0m\u001b[0mgrad_func\u001b[0m\u001b[0;34m,\u001b[0m \u001b[0mfeed_dict\u001b[0m\u001b[0;34m=\u001b[0m\u001b[0;34m{\u001b[0m\u001b[0mmodel_ANN\u001b[0m\u001b[0;34m.\u001b[0m\u001b[0minput\u001b[0m\u001b[0;34m:\u001b[0m \u001b[0mx\u001b[0m\u001b[0;34m.\u001b[0m\u001b[0mreshape\u001b[0m\u001b[0;34m(\u001b[0m\u001b[0;34m(\u001b[0m\u001b[0;36m1\u001b[0m\u001b[0;34m,\u001b[0m \u001b[0mx\u001b[0m\u001b[0;34m.\u001b[0m\u001b[0msize\u001b[0m\u001b[0;34m)\u001b[0m\u001b[0;34m)\u001b[0m\u001b[0;34m}\u001b[0m\u001b[0;34m)\u001b[0m\u001b[0;34m\u001b[0m\u001b[0;34m\u001b[0m\u001b[0m\n\u001b[0m\u001b[1;32m      7\u001b[0m         \u001b[0mjacobian_matrix\u001b[0m\u001b[0;34m.\u001b[0m\u001b[0mappend\u001b[0m\u001b[0;34m(\u001b[0m\u001b[0mgradients\u001b[0m\u001b[0;34m[\u001b[0m\u001b[0;36m0\u001b[0m\u001b[0;34m]\u001b[0m\u001b[0;34m[\u001b[0m\u001b[0;36m0\u001b[0m\u001b[0;34m,\u001b[0m\u001b[0;34m:\u001b[0m\u001b[0;34m]\u001b[0m\u001b[0;34m)\u001b[0m\u001b[0;34m\u001b[0m\u001b[0;34m\u001b[0m\u001b[0m\n\u001b[1;32m      8\u001b[0m \u001b[0;34m\u001b[0m\u001b[0m\n",
      "\u001b[0;32m/Applications/Anaconda/anaconda3/lib/python3.7/site-packages/tensorflow/python/client/session.py\u001b[0m in \u001b[0;36mrun\u001b[0;34m(self, fetches, feed_dict, options, run_metadata)\u001b[0m\n\u001b[1;32m    948\u001b[0m     \u001b[0;32mtry\u001b[0m\u001b[0;34m:\u001b[0m\u001b[0;34m\u001b[0m\u001b[0;34m\u001b[0m\u001b[0m\n\u001b[1;32m    949\u001b[0m       result = self._run(None, fetches, feed_dict, options_ptr,\n\u001b[0;32m--> 950\u001b[0;31m                          run_metadata_ptr)\n\u001b[0m\u001b[1;32m    951\u001b[0m       \u001b[0;32mif\u001b[0m \u001b[0mrun_metadata\u001b[0m\u001b[0;34m:\u001b[0m\u001b[0;34m\u001b[0m\u001b[0;34m\u001b[0m\u001b[0m\n\u001b[1;32m    952\u001b[0m         \u001b[0mproto_data\u001b[0m \u001b[0;34m=\u001b[0m \u001b[0mtf_session\u001b[0m\u001b[0;34m.\u001b[0m\u001b[0mTF_GetBuffer\u001b[0m\u001b[0;34m(\u001b[0m\u001b[0mrun_metadata_ptr\u001b[0m\u001b[0;34m)\u001b[0m\u001b[0;34m\u001b[0m\u001b[0;34m\u001b[0m\u001b[0m\n",
      "\u001b[0;32m/Applications/Anaconda/anaconda3/lib/python3.7/site-packages/tensorflow/python/client/session.py\u001b[0m in \u001b[0;36m_run\u001b[0;34m(self, handle, fetches, feed_dict, options, run_metadata)\u001b[0m\n\u001b[1;32m   1147\u001b[0m                              \u001b[0;34m'which has shape %r'\u001b[0m \u001b[0;34m%\u001b[0m\u001b[0;34m\u001b[0m\u001b[0;34m\u001b[0m\u001b[0m\n\u001b[1;32m   1148\u001b[0m                              (np_val.shape, subfeed_t.name,\n\u001b[0;32m-> 1149\u001b[0;31m                               str(subfeed_t.get_shape())))\n\u001b[0m\u001b[1;32m   1150\u001b[0m           \u001b[0;32mif\u001b[0m \u001b[0;32mnot\u001b[0m \u001b[0mself\u001b[0m\u001b[0;34m.\u001b[0m\u001b[0mgraph\u001b[0m\u001b[0;34m.\u001b[0m\u001b[0mis_feedable\u001b[0m\u001b[0;34m(\u001b[0m\u001b[0msubfeed_t\u001b[0m\u001b[0;34m)\u001b[0m\u001b[0;34m:\u001b[0m\u001b[0;34m\u001b[0m\u001b[0;34m\u001b[0m\u001b[0m\n\u001b[1;32m   1151\u001b[0m             \u001b[0;32mraise\u001b[0m \u001b[0mValueError\u001b[0m\u001b[0;34m(\u001b[0m\u001b[0;34m'Tensor %s may not be fed.'\u001b[0m \u001b[0;34m%\u001b[0m \u001b[0msubfeed_t\u001b[0m\u001b[0;34m)\u001b[0m\u001b[0;34m\u001b[0m\u001b[0;34m\u001b[0m\u001b[0m\n",
      "\u001b[0;31mValueError\u001b[0m: Cannot feed value of shape (1, 9000) for Tensor 'dense_4_input:0', which has shape '(?, 6)'"
     ]
    }
   ],
   "source": [
    "jacobian_tensorflow(x_test)"
   ]
  },
  {
   "cell_type": "code",
   "execution_count": null,
   "metadata": {},
   "outputs": [],
   "source": []
  }
 ],
 "metadata": {
  "kernelspec": {
   "display_name": "Python 3",
   "language": "python",
   "name": "python3"
  },
  "language_info": {
   "codemirror_mode": {
    "name": "ipython",
    "version": 3
   },
   "file_extension": ".py",
   "mimetype": "text/x-python",
   "name": "python",
   "nbconvert_exporter": "python",
   "pygments_lexer": "ipython3",
   "version": "3.7.3"
  }
 },
 "nbformat": 4,
 "nbformat_minor": 2
}
